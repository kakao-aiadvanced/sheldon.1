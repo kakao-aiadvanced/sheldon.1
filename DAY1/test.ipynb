{
 "cells": [
  {
   "cell_type": "code",
   "execution_count": 52,
   "metadata": {},
   "outputs": [
    {
     "name": "stdout",
     "output_type": "stream",
     "text": [
      "Choice(finish_reason='stop', index=0, logprobs=None, message=ChatCompletionMessage(content=\"The sky appears blue to us because of a phenomenon called Rayleigh scattering, which occurs when sunlight interacts with the tiny molecules of gases in the Earth's atmosphere.\\n\\nHere's what happens:\\n\\n1. Sunlight enters our atmosphere and consists of a broad spectrum of colors, including all the colors of the visible light.\\n2. When this light encounters the small molecules of gases like nitrogen (N2) and oxygen (O2), it scatters in all directions. However, shorter (blue) wavelengths are scattered more than longer (red) wavelengths due to their smaller size.\\n\\nThis is known as Rayleigh scattering, named after Lord Rayleigh, who first described this phenomenon in the late 19th century.\\n\\n3. As a result of this scattering, the blue light is dispersed throughout the atmosphere, making it visible from our vantage point on Earth.\\n4. When we look up at the sky, our eyes see the scattered blue light and perceive it as a blue color.\\n\\nIt's worth noting that during sunrise and sunset, the sky can appear more red or orange because the sunlight has to travel through more of the Earth's atmosphere to reach us, scattering away even more of the shorter wavelengths (like blue) and allowing the longer wavelengths (like red) to dominate our view.\\n\\nI hope this explanation helps you understand why the sky is blue!\", role='assistant', function_call=None, tool_calls=None))\n"
     ]
    }
   ],
   "source": [
    "# Example: reuse your existing OpenAI setup\n",
    "from openai import OpenAI\n",
    "\n",
    "# Point to the local server\n",
    "client = OpenAI(base_url=\"http://localhost:1234/v1\", api_key=\"lm-studio\")\n",
    "\n",
    "completion = client.chat.completions.create(\n",
    "  model=\"lmstudio-community/Meta-Llama-3.1-8B-Instruct-GGUF\",\n",
    "  messages=[\n",
    "    {\"role\": \"user\", \"content\": \"why is the sky blue?\"}\n",
    "  ],\n",
    "  temperature=0.7,\n",
    ")\n",
    "\n",
    "print(completion.choices[0].message)"
   ]
  },
  {
   "cell_type": "code",
   "execution_count": 55,
   "metadata": {},
   "outputs": [],
   "source": [
    "# openAI setting\n",
    "from dotenv import load_dotenv\n",
    "import os\n",
    "\n",
    "load_dotenv()\n",
    "\n",
    "API_KEY = os.environ.get('API_KEY')\n",
    "\n",
    "def open_ai_query(query, system = \"\"):\n",
    "    client = OpenAI()\n",
    "\n",
    "    completion = client.chat.completions.create(\n",
    "    model=\"gpt-4o-mini\",\n",
    "    messages=[\n",
    "        {\n",
    "            \"role\": \"system\", \n",
    "            \"content\": system\n",
    "        }, \n",
    "        {\n",
    "            \"role\": \"user\", \n",
    "            \"content\": query\n",
    "        }\n",
    "    ]\n",
    "    )\n",
    "    return completion.choices[0].message.content"
   ]
  },
  {
   "cell_type": "code",
   "execution_count": 44,
   "metadata": {},
   "outputs": [
    {
     "name": "stdout",
     "output_type": "stream",
     "text": [
      "ChatCompletionMessage(content=\"South Korea is rich in history, culture, and natural beauty, offering a wide range of attractions. Here are some of the best places to visit:\\n\\n1. **Seoul**:\\n   - **Gyeongbokgung Palace**: The largest of the Five Grand Palaces, it showcases traditional Korean architecture.\\n   - **Bukchon Hanok Village**: A picturesque area with traditional Korean houses (hanoks).\\n   - **N Seoul Tower**: Offers panoramic views of the city.\\n   - **Myeongdong**: A vibrant shopping district famous for cosmetics, street food, and fashion.\\n\\n2. **Busan**:\\n   - **Haeundae Beach**: One of Korea's most famous beaches, great for sunbathing and water sports.\\n   - **Gamcheon Culture Village**: Known for its colorful houses and artistic vibe.\\n   - **Jagalchi Fish Market**: Experience fresh seafood and local delicacies.\\n\\n3. **Gyeongju**:\\n   - **Bulguksa Temple**: A UNESCO World Heritage Site showcasing beautiful architecture.\\n   - **Seokguram Grotto**: Another UNESCO site with a stunning stone statue of Buddha.\\n   - **Tumuli Park**: Home to ancient royal tombs.\\n\\n4. **Jeju Island**:\\n   - **Hallasan Mountain**: The highest mountain in South Korea, popular for hiking.\\n   - **Seongsan Ilchulbong (Sunrise Peak)**: A volcanic cone offering breathtaking sunrise views.\\n   - **Manjanggul Cave**: One of the longest lava tubes in the world.\\n\\n5. **Incheon**:\\n   - **Incheon Chinatown**: The first and largest Chinatown in Korea, filled with shops and delicious food.\\n   - **Songdo International Business District**: A modern urban area with parks and innovative architecture.\\n\\n6. **Suwon**:\\n   - **Hwaseong Fortress**: A UNESCO World Heritage site with impressive walls and gates.\\n\\n7. **Sokcho**:\\n   - **Seoraksan National Park**: Known for its stunning mountain landscapes and hiking trails.\\n\\n8. **Andong**:\\n   - **Hahoe Folk Village**: A preserved village that showcases traditional Korean culture and architecture.\\n\\n9. **Jeonju**:\\n   - **Jeonju Hanok Village**: Offers a glimpse of traditional Korean homes and famous for its bibimbap.\\n\\n10. **Gangneung**:\\n    - **Gyeongpo Beach**: A beautiful beach and popular seaside destination.\\n\\nThese are just a few highlights, but South Korea has much more to offer in terms of attractions, food, and experiences.\", role='assistant', function_call=None, tool_calls=None)\n"
     ]
    }
   ],
   "source": [
    "# prompt Engineering\n",
    "query = \"What are the best places in Korea?\"\n",
    "\n",
    "print(open_ai_query(query))\n"
   ]
  },
  {
   "cell_type": "code",
   "execution_count": 45,
   "metadata": {},
   "outputs": [
    {
     "name": "stdout",
     "output_type": "stream",
     "text": [
      "ChatCompletionMessage(content='The word \"dog\" in Korean is \"개\" (gae).', role='assistant', function_call=None, tool_calls=None)\n"
     ]
    }
   ],
   "source": [
    "# Few shot engineering - 1\n",
    "system = \"\"\" \n",
    "Translate the following words to Korean:\n",
    "1. book: 책\n",
    "2. cheese: 치즈\n",
    "3. water: 물\n",
    "4. bread: 빵\n",
    "5. apple: 사과\n",
    "\"\"\"\n",
    "query = \"\"\" \n",
    "Translate the word \"dog\":\n",
    "\"\"\"\n",
    "\n",
    "\n",
    "print(open_ai_query(query=query, system=system))"
   ]
  },
  {
   "cell_type": "code",
   "execution_count": 49,
   "metadata": {},
   "outputs": [
    {
     "name": "stdout",
     "output_type": "stream",
     "text": [
      "ChatCompletionMessage(content='negative', role='assistant', function_call=None, tool_calls=None)\n"
     ]
    }
   ],
   "source": [
    "# Few shot engineering - 2\n",
    "system=\"\"\" \n",
    "Determine the sentiment (positive or negative) of the following movie reviews:\n",
    "1. \"The movie was fantastic and had great acting.\": positive\n",
    "2. \"I hated the film; it was a complete waste of time.\": negative\n",
    "3. \"An excellent film that kept me on the edge of my seat.\": positive\n",
    "4. \"Terrible plot and horrible acting.\": negative\n",
    "5. \"A wonderful experience with stunning visuals.\": positive\n",
    "\"\"\"\n",
    "\n",
    "query = \"The storyline was dull and uninspiring. Sentiment:\"\n",
    "\n",
    "\n",
    "print(open_ai_query(query=query, system=system))"
   ]
  },
  {
   "cell_type": "code",
   "execution_count": 57,
   "metadata": {},
   "outputs": [
    {
     "name": "stdout",
     "output_type": "stream",
     "text": [
      "```sql\n",
      "SELECT AVG(salary) FROM employees WHERE department = 'Marketing';\n",
      "```\n"
     ]
    }
   ],
   "source": [
    "# Few shot engineering - 3\n",
    "system=\"\"\" \n",
    "Convert the following natural language requests into SQL queries:\n",
    "1. \"Show all employees with a salary greater than $50,000.\": SELECT * FROM employees WHERE salary > 50000;\n",
    "2. \"List all products that are out of stock.\": SELECT * FROM products WHERE stock = 0;\n",
    "3. \"Find the names of students who scored above 90 in math.\": SELECT name FROM students WHERE math_score > 90;\n",
    "4. \"Retrieve the details of orders placed in the last 30 days.\": SELECT * FROM orders WHERE order_date >= DATE_SUB(CURDATE(), INTERVAL 30 DAY);\n",
    "5. \"Get the count of customers from each city.\": SELECT city, COUNT(*) FROM customers GROUP BY city;\n",
    "\"\"\"\n",
    "\n",
    "query = \"\"\" \n",
    "Find the average salary of employees in the marketing department.\n",
    "\"\"\"\n",
    "\n",
    "print(open_ai_query(query=query, system=system))"
   ]
  },
  {
   "cell_type": "code",
   "execution_count": 56,
   "metadata": {},
   "outputs": [
    {
     "name": "stdout",
     "output_type": "stream",
     "text": [
      "To solve the problem \\(23 + 47\\), we'll follow these steps:\n",
      "\n",
      "1. **Align the Numbers**: Write the numbers one below the other, aligning them by their rightmost digits.\n",
      "\n",
      "    ```\n",
      "      23\n",
      "    + 47\n",
      "    ```\n",
      "\n",
      "2. **Add the Units Column** (rightmost column):\n",
      "   - The digits in this column are \\(3\\) (from 23) and \\(7\\) (from 47).\n",
      "   - Calculate \\(3 + 7 = 10\\).\n",
      "   - Write down \\(0\\) below the line and carry over \\(1\\) to the next column.\n",
      "\n",
      "    ```\n",
      "      23\n",
      "    + 47\n",
      "    -----\n",
      "      0 (write down 0, carry over 1)\n",
      "    ```\n",
      "\n",
      "3. **Add the Tens Column** (next column to the left):\n",
      "   - The digits in this column are \\(2\\) (from 23) and \\(4\\) (from 47), plus the carry over \\(1\\).\n",
      "   - Calculate \\(2 + 4 + 1 = 7\\).\n",
      "   \n",
      "    ```\n",
      "      23\n",
      "    + 47\n",
      "    -----\n",
      "     70\n",
      "    ```\n",
      "\n",
      "4. **Combine the totals**: The sum of \\(23 + 47 = 70\\).\n",
      "\n",
      "Therefore, the final answer is **70**.\n"
     ]
    }
   ],
   "source": [
    "# Simple - 1\n",
    "\n",
    "query = \"Solve the following problem step-by-step: 23 + 47\"\n",
    "\n",
    "print(open_ai_query(query=query))"
   ]
  },
  {
   "cell_type": "code",
   "execution_count": 63,
   "metadata": {},
   "outputs": [
    {
     "name": "stdout",
     "output_type": "stream",
     "text": [
      "The message describes a common issue that likely has a known solution and can be addressed through basic troubleshooting steps. Tier 1 Support\n"
     ]
    }
   ],
   "source": [
    "# Simple - 2\n",
    "query = \"Solve the following problem step-by-step: 123 - 58\"\n",
    "\n",
    "print(open_ai_query(query=query))"
   ]
  }
 ],
 "metadata": {
  "kernelspec": {
   "display_name": "Python 3",
   "language": "python",
   "name": "python3"
  },
  "language_info": {
   "codemirror_mode": {
    "name": "ipython",
    "version": 3
   },
   "file_extension": ".py",
   "mimetype": "text/x-python",
   "name": "python",
   "nbconvert_exporter": "python",
   "pygments_lexer": "ipython3",
   "version": "3.9.6"
  }
 },
 "nbformat": 4,
 "nbformat_minor": 2
}
